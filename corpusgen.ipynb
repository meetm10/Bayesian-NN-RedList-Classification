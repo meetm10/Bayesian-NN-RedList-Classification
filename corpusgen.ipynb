{
 "cells": [
  {
   "cell_type": "code",
   "execution_count": 3,
   "metadata": {},
   "outputs": [],
   "source": [
    "import sys\n",
    "import csv\n",
    "import wikipedia\n",
    "import os"
   ]
  },
  {
   "cell_type": "code",
   "execution_count": 3,
   "metadata": {},
   "outputs": [],
   "source": [
    "species = []\n",
    "with open('list.csv','r') as file:\n",
    "    reader = csv.reader(file)\n",
    "    species = list(reader)"
   ]
  },
  {
   "cell_type": "code",
   "execution_count": 4,
   "metadata": {},
   "outputs": [],
   "source": [
    "species = [item for sublist in species for item in sublist]"
   ]
  },
  {
   "cell_type": "code",
   "execution_count": null,
   "metadata": {},
   "outputs": [
    {
     "name": "stderr",
     "output_type": "stream",
     "text": [
      "/home/ec2-user/anaconda3/envs/amazonei_mxnet_p36/lib/python3.6/site-packages/bs4/__init__.py:181: UserWarning: No parser was explicitly specified, so I'm using the best available HTML parser for this system (\"lxml\"). This usually isn't a problem, but if you run this code on another system, or in a different virtual environment, it may use a different parser and behave differently.\n",
      "\n",
      "The code that caused this warning is on line 193 of the file /home/ec2-user/anaconda3/envs/amazonei_mxnet_p36/lib/python3.6/runpy.py. To get rid of this warning, change code that looks like this:\n",
      "\n",
      " BeautifulSoup(YOUR_MARKUP})\n",
      "\n",
      "to this:\n",
      "\n",
      " BeautifulSoup(YOUR_MARKUP, \"lxml\")\n",
      "\n",
      "  markup_type=markup_type))\n"
     ]
    }
   ],
   "source": [
    "for s in species:\n",
    "    try:\n",
    "        with open('done.txt','a',encoding='utf-8') as file:\n",
    "            file.write(s+'\\n')\n",
    "        with open('corpus.txt','a',encoding='utf-8') as file:\n",
    "            file.write(s+'\\n@&@&@&@&\\n'+wikipedia.page(s).content)\n",
    "            file.write('\\n\\n!@#$%^&*!@#$%^&*!@#$%^&*!@#$%^&*\\n\\n')\n",
    "    except:\n",
    "        with open('linksnotfound.txt','a',encoding='utf-8') as file:\n",
    "            file.write(s+'\\n')"
   ]
  },
  {
   "cell_type": "code",
   "execution_count": 11,
   "metadata": {},
   "outputs": [],
   "source": [
    "done = []\n",
    "with open('done.txt','r') as file:\n",
    "    for line in file:\n",
    "        done.append(line)"
   ]
  },
  {
   "cell_type": "code",
   "execution_count": 13,
   "metadata": {},
   "outputs": [],
   "source": [
    "notdone = []\n",
    "with open('linksnotfound.txt','r') as file:\n",
    "    for line in file:\n",
    "        notdone.append(line)"
   ]
  },
  {
   "cell_type": "code",
   "execution_count": 17,
   "metadata": {},
   "outputs": [],
   "source": [
    "actual_done = list(set(done) - set(notdone))"
   ]
  },
  {
   "cell_type": "code",
   "execution_count": 20,
   "metadata": {},
   "outputs": [],
   "source": [
    "with open('done_final.txt','a') as file:\n",
    "    for a in actual_done:\n",
    "        file.write(a)"
   ]
  }
 ],
 "metadata": {
  "kernelspec": {
   "display_name": "Python 3",
   "language": "python",
   "name": "python3"
  },
  "language_info": {
   "codemirror_mode": {
    "name": "ipython",
    "version": 3
   },
   "file_extension": ".py",
   "mimetype": "text/x-python",
   "name": "python",
   "nbconvert_exporter": "python",
   "pygments_lexer": "ipython3",
   "version": "3.7.4"
  }
 },
 "nbformat": 4,
 "nbformat_minor": 2
}
