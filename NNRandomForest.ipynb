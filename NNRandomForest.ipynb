{
 "cells": [
  {
   "cell_type": "code",
   "execution_count": 1,
   "metadata": {},
   "outputs": [],
   "source": [
    "from torch import nn\n",
    "import pandas as pd\n",
    "import torch\n",
    "from torch.autograd import Variable\n",
    "import torch.utils.data as data\n",
    "import numpy as np\n",
    "from sklearn.metrics import f1_score\n",
    "from sklearn.model_selection import train_test_split\n",
    "from sklearn.ensemble import RandomForestClassifier\n",
    "from sklearn.metrics import confusion_matrix, matthews_corrcoef, accuracy_score\n",
    "from sklearn.ensemble import ExtraTreesClassifier, AdaBoostClassifier"
   ]
  },
  {
   "cell_type": "code",
   "execution_count": 2,
   "metadata": {},
   "outputs": [],
   "source": [
    "data = pd.read_pickle(\"wanted.pkl\")"
   ]
  },
  {
   "cell_type": "code",
   "execution_count": 3,
   "metadata": {},
   "outputs": [],
   "source": [
    "import pickle\n",
    "with open('merged_embeddings.pkl','rb') as file:\n",
    "    merged_embeddings = pickle.load(file)"
   ]
  },
  {
   "cell_type": "code",
   "execution_count": 4,
   "metadata": {},
   "outputs": [],
   "source": [
    "data['embedding'] = data.apply(lambda row: merged_embeddings[row['scientificName']],axis=1)"
   ]
  },
  {
   "cell_type": "code",
   "execution_count": 5,
   "metadata": {},
   "outputs": [
    {
     "data": {
      "text/plain": [
       "10"
      ]
     },
     "execution_count": 5,
     "metadata": {},
     "output_type": "execute_result"
    }
   ],
   "source": [
    "len(set(data['redlistCategory']))"
   ]
  },
  {
   "cell_type": "code",
   "execution_count": 6,
   "metadata": {},
   "outputs": [
    {
     "name": "stderr",
     "output_type": "stream",
     "text": [
      "D:\\Anaconda\\lib\\site-packages\\pandas\\core\\internals\\managers.py:1937: FutureWarning: elementwise comparison failed; returning scalar instead, but in the future will perform elementwise comparison\n",
      "  op = lambda x: operator.eq(x, b)\n"
     ]
    }
   ],
   "source": [
    "data = data.replace(to_replace =['Critically Endangered',\n",
    " 'Endangered',\n",
    " 'Extinct',\n",
    " 'Extinct in the Wild',\n",
    " 'Least Concern',\n",
    " 'Lower Risk/conservation dependent',\n",
    " 'Lower Risk/least concern',\n",
    " 'Lower Risk/near threatened',\n",
    " 'Near Threatened',\n",
    " 'Vulnerable'], \n",
    "                 value =[0,0,0,0,1,0,1,0,0,0])"
   ]
  },
  {
   "cell_type": "code",
   "execution_count": 7,
   "metadata": {},
   "outputs": [],
   "source": [
    "X = list(data['embedding'])"
   ]
  },
  {
   "cell_type": "code",
   "execution_count": 8,
   "metadata": {},
   "outputs": [],
   "source": [
    "Y = list(data['redlistCategory'])"
   ]
  },
  {
   "cell_type": "code",
   "execution_count": null,
   "metadata": {},
   "outputs": [],
   "source": [
    "# with open('X.pkl','wb') as d:\n",
    "#     pickle.dump(X,d)\n",
    "# with open('Y.pkl','wb') as d:\n",
    "#     pickle.dump(Y,d)"
   ]
  },
  {
   "cell_type": "code",
   "execution_count": 9,
   "metadata": {},
   "outputs": [],
   "source": [
    "import random\n",
    "def get_batch():\n",
    "    X0 = []\n",
    "    X1 = []\n",
    "    for x,y in zip(X_train,y_train):\n",
    "        if y==0:\n",
    "            X0.append(x)\n",
    "        else:\n",
    "            X1.append(x)\n",
    "    Y0 = [0]*len(X0)\n",
    "    Y1 = [1]*len(X1)\n",
    "    if len(X0) <= len(X1):\n",
    "        X = X0[:] + random.sample(X1,len(X0))\n",
    "        Y = Y0[:] + [1]*len(X0)\n",
    "    else:\n",
    "        X = X1[:] + random.sample(X0,len(X1))\n",
    "        Y = Y1[:] + [0]*len(X1)\n",
    "    return X,Y"
   ]
  },
  {
   "cell_type": "code",
   "execution_count": 10,
   "metadata": {},
   "outputs": [],
   "source": [
    "X_train, X_test, y_train, y_test = train_test_split(X, Y, test_size=0.2, random_state=42)\n",
    "Xtrain,Ytrain = get_batch()\n",
    "inp = torch.tensor(Xtrain, device = 'cuda')\n",
    "out = torch.tensor(Ytrain, device = 'cuda')\n",
    "inp = inp.squeeze(2)\n",
    "testx = torch.tensor(X_test, device = 'cuda').squeeze(2)\n"
   ]
  },
  {
   "cell_type": "code",
   "execution_count": 11,
   "metadata": {},
   "outputs": [],
   "source": [
    "input_size = 400\n",
    "hidden_sizes = [32]\n",
    "output_size = 2\n",
    "model = nn.Sequential(nn.Linear(input_size, hidden_sizes[0]),\n",
    "                      nn.ReLU(),\n",
    "                      nn.Linear(hidden_sizes[0], output_size),\n",
    "                      nn.Softmax(dim=1))\n",
    "model.cuda()\n",
    "model.double()\n",
    "criterium = nn.CrossEntropyLoss()"
   ]
  },
  {
   "cell_type": "code",
   "execution_count": 12,
   "metadata": {
    "scrolled": true
   },
   "outputs": [
    {
     "name": "stdout",
     "output_type": "stream",
     "text": [
      "0.6921554454825113\n",
      "0\n",
      "0.7367225716282321\n",
      "0.6141339137114326\n",
      "0.0164135612476877\n",
      "---------------------------------------\n",
      "0.6921315304905762\n",
      "100\n",
      "0.7369982547993019\n",
      "0.6141339137114326\n",
      "0.014757544922468611\n",
      "---------------------------------------\n",
      "0.6921076737062973\n",
      "200\n",
      "0.7380163848701413\n",
      "0.6151581103571886\n",
      "0.015451493240142996\n",
      "---------------------------------------\n",
      "0.6920838607136391\n",
      "300\n",
      "0.7383088043194287\n",
      "0.6152861349379081\n",
      "0.01453317989987226\n",
      "---------------------------------------\n",
      "0.6920601439874389\n",
      "400\n",
      "0.7387936286883106\n",
      "0.6157982332607861\n",
      "0.015020012699461415\n",
      "---------------------------------------\n",
      "0.69203646132424\n",
      "500\n",
      "0.7390396659707723\n",
      "0.6159262578415056\n",
      "0.014377218163829494\n",
      "---------------------------------------\n",
      "0.6920128414763528\n",
      "600\n",
      "0.7390661681592905\n",
      "0.6157982332607861\n",
      "0.013349906308630932\n",
      "---------------------------------------\n",
      "0.6919892447619849\n",
      "700\n",
      "0.7394213224433052\n",
      "0.616054282422225\n",
      "0.012895355179185549\n",
      "---------------------------------------\n",
      "0.6919657379737504\n",
      "800\n",
      "0.7402326792845979\n",
      "0.6169504544872616\n",
      "0.01395910071013605\n",
      "---------------------------------------\n",
      "0.6919423056772452\n",
      "900\n",
      "0.7404964415900017\n",
      "0.6172065036487006\n",
      "0.014063983960916463\n",
      "---------------------------------------\n",
      "0.6919189332247108\n",
      "1000\n",
      "0.7412866308305879\n",
      "0.6179746511330175\n",
      "0.014379729037729617\n",
      "---------------------------------------\n",
      "0.6918955911982769\n",
      "1100\n",
      "0.7413120721033017\n",
      "0.617846626552298\n",
      "0.0133455859879454\n",
      "---------------------------------------\n",
      "0.6918723128706048\n",
      "1200\n",
      "0.7420555892285046\n",
      "0.618614774036615\n",
      "0.013942203373716855\n",
      "---------------------------------------\n",
      "0.6918490832907666\n",
      "1300\n",
      "0.7423626135871917\n",
      "0.618870823198054\n",
      "0.01376661541901592\n",
      "---------------------------------------\n",
      "0.6918259370497986\n",
      "1400\n",
      "0.7425853869433636\n",
      "0.618870823198054\n",
      "0.01235711506642276\n",
      "---------------------------------------\n",
      "0.6918028478117731\n",
      "1500\n",
      "0.7428275146906327\n",
      "0.6189988477787736\n",
      "0.011702646031991292\n",
      "---------------------------------------\n",
      "0.6917797988900279\n",
      "1600\n",
      "0.7430891499654457\n",
      "0.6192548969402125\n",
      "0.01180724827012966\n",
      "---------------------------------------\n",
      "0.6917567711467498\n",
      "1700\n",
      "0.7435676049041616\n",
      "0.6197669952630905\n",
      "0.012300424386912548\n",
      "---------------------------------------\n",
      "0.6917338078420339\n",
      "1800\n",
      "0.7441138421733505\n",
      "0.620151069005249\n",
      "0.011464722342273848\n",
      "---------------------------------------\n",
      "0.6917109137319278\n",
      "1900\n",
      "0.7445909835359019\n",
      "0.620663167328127\n",
      "0.011959498962787486\n",
      "---------------------------------------\n",
      "0.6916880743577122\n",
      "2000\n",
      "0.7448311509303928\n",
      "0.6207911919088465\n",
      "0.01130029039840331\n",
      "---------------------------------------\n",
      "0.6916652710402226\n",
      "2100\n",
      "0.7453512396694214\n",
      "0.6213032902317245\n",
      "0.011510964875658223\n",
      "---------------------------------------\n",
      "0.6916425253875683\n",
      "2200\n",
      "0.7459347844790502\n",
      "0.621943413135322\n",
      "0.012203900645644531\n",
      "---------------------------------------\n",
      "0.6916198018878537\n",
      "2300\n",
      "0.7466253976442266\n",
      "0.622711560619639\n",
      "0.01309521715392856\n",
      "---------------------------------------\n",
      "0.6915971371301673\n",
      "2400\n",
      "0.7474868974997853\n",
      "0.623735757265395\n",
      "0.014668997286471922\n",
      "---------------------------------------\n",
      "0.6915745269168713\n",
      "2500\n",
      "0.7477454264364854\n",
      "0.6239918064268339\n",
      "0.01477782402499909\n",
      "---------------------------------------\n",
      "0.6915519577787731\n",
      "2600\n",
      "0.7484336108488542\n",
      "0.6247599539111509\n",
      "0.015677245197247194\n",
      "---------------------------------------\n",
      "0.6915294525139036\n",
      "2700\n",
      "0.7493996569468268\n",
      "0.6259121751376264\n",
      "0.017460492998778415\n",
      "---------------------------------------\n",
      "0.6915069916368797\n",
      "2800\n",
      "0.7498714212240699\n",
      "0.6264242734605044\n",
      "0.017969869120856897\n",
      "---------------------------------------\n",
      "0.6914845516702397\n",
      "2900\n",
      "0.7500214242865713\n",
      "0.6265522980412239\n",
      "0.017883228775373843\n",
      "---------------------------------------\n"
     ]
    }
   ],
   "source": [
    "epoch = 3000\n",
    "for i in range(epoch):\n",
    "    pred = model(inp)\n",
    "    loss = criterium(pred, out)\n",
    "    if i%100 == 0:\n",
    "        print (loss.item())\n",
    "        print (i)\n",
    "        y_pred = model(testx)\n",
    "        op = ((y_pred).argmax(1).tolist())\n",
    "        print (f1_score(y_test, op))\n",
    "        print (accuracy_score(y_test, op))\n",
    "        print (matthews_corrcoef(y_test, op))\n",
    "        print ('---------------------------------------')\n",
    "    model.zero_grad()\n",
    "    loss.backward()\n",
    "    with torch.no_grad():\n",
    "        for param in model.parameters():\n",
    "            param -= 0.0001*param.grad"
   ]
  },
  {
   "cell_type": "code",
   "execution_count": 15,
   "metadata": {},
   "outputs": [],
   "source": [
    "test = torch.tensor(X_test, device = 'cuda').squeeze(2)\n",
    "y_pred = model(test)\n",
    "ypred = ((y_pred).argmax(1).tolist())"
   ]
  },
  {
   "cell_type": "code",
   "execution_count": 16,
   "metadata": {},
   "outputs": [
    {
     "data": {
      "text/plain": [
       "0.6265522980412239"
      ]
     },
     "execution_count": 16,
     "metadata": {},
     "output_type": "execute_result"
    }
   ],
   "source": [
    "accuracy_score(list(ypred), y_test)"
   ]
  },
  {
   "cell_type": "code",
   "execution_count": 17,
   "metadata": {},
   "outputs": [],
   "source": [
    "X_train = np.array(X_train)\n",
    "X_train = X_train.reshape(X_train.shape[0], -1)"
   ]
  },
  {
   "cell_type": "code",
   "execution_count": 18,
   "metadata": {},
   "outputs": [],
   "source": [
    "X_test = np.array(X_test)\n",
    "X_test = X_test.reshape(X_test.shape[0], -1)"
   ]
  },
  {
   "cell_type": "code",
   "execution_count": 19,
   "metadata": {},
   "outputs": [
    {
     "data": {
      "text/plain": [
       "RandomForestClassifier(bootstrap=True, class_weight=None, criterion='gini',\n",
       "            max_depth=350, max_features='auto', max_leaf_nodes=None,\n",
       "            min_impurity_decrease=0.0, min_impurity_split=None,\n",
       "            min_samples_leaf=1, min_samples_split=2,\n",
       "            min_weight_fraction_leaf=0.0, n_estimators=100, n_jobs=3,\n",
       "            oob_score=False, random_state=0, verbose=0, warm_start=False)"
      ]
     },
     "execution_count": 19,
     "metadata": {},
     "output_type": "execute_result"
    }
   ],
   "source": [
    "clf = RandomForestClassifier(n_estimators=100, max_depth=350, n_jobs = 3,\n",
    "                             random_state=0)\n",
    "clf.fit(X_train, y_train)  \n"
   ]
  },
  {
   "cell_type": "code",
   "execution_count": 20,
   "metadata": {},
   "outputs": [],
   "source": [
    "ypred = clf.predict(X_test)"
   ]
  },
  {
   "cell_type": "code",
   "execution_count": 21,
   "metadata": {},
   "outputs": [
    {
     "data": {
      "text/plain": [
       "0.8543768972023957"
      ]
     },
     "execution_count": 21,
     "metadata": {},
     "output_type": "execute_result"
    }
   ],
   "source": [
    "f1_score(ypred, y_test)"
   ]
  },
  {
   "cell_type": "code",
   "execution_count": 22,
   "metadata": {},
   "outputs": [
    {
     "data": {
      "text/plain": [
       "array([[ 829,  373],\n",
       "       [1402, 5207]], dtype=int64)"
      ]
     },
     "execution_count": 22,
     "metadata": {},
     "output_type": "execute_result"
    }
   ],
   "source": [
    "confusion_matrix(ypred, y_test)"
   ]
  },
  {
   "cell_type": "code",
   "execution_count": 23,
   "metadata": {},
   "outputs": [
    {
     "data": {
      "text/plain": [
       "0.3814793795503145"
      ]
     },
     "execution_count": 23,
     "metadata": {},
     "output_type": "execute_result"
    }
   ],
   "source": [
    "matthews_corrcoef(ypred, y_test)"
   ]
  },
  {
   "cell_type": "code",
   "execution_count": 24,
   "metadata": {},
   "outputs": [
    {
     "data": {
      "text/plain": [
       "0.7727563692228908"
      ]
     },
     "execution_count": 24,
     "metadata": {},
     "output_type": "execute_result"
    }
   ],
   "source": [
    "accuracy_score(ypred, y_test)"
   ]
  }
 ],
 "metadata": {
  "kernelspec": {
   "display_name": "Python 3",
   "language": "python",
   "name": "python3"
  },
  "language_info": {
   "codemirror_mode": {
    "name": "ipython",
    "version": 3
   },
   "file_extension": ".py",
   "mimetype": "text/x-python",
   "name": "python",
   "nbconvert_exporter": "python",
   "pygments_lexer": "ipython3",
   "version": "3.7.5"
  }
 },
 "nbformat": 4,
 "nbformat_minor": 2
}
